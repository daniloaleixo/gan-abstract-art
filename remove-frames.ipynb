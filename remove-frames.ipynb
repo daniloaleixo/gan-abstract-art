{
 "cells": [
  {
   "cell_type": "code",
   "execution_count": 5,
   "metadata": {},
   "outputs": [],
   "source": [
    "import numpy as np\n",
    "from PIL import Image \n",
    "from matplotlib.pyplot import figure\n",
    "from os import listdir\n",
    "from scipy.spatial import distance\n",
    "from tqdm import tqdm"
   ]
  },
  {
   "cell_type": "code",
   "execution_count": 6,
   "metadata": {},
   "outputs": [],
   "source": [
    "from_path = 'art/wikiart/'\n",
    "to_path   = 'art/cropped/'"
   ]
  },
  {
   "cell_type": "code",
   "execution_count": 14,
   "metadata": {},
   "outputs": [],
   "source": [
    "def find_left():\n",
    "    left = 0\n",
    "    for i in range(0, w_pad):\n",
    "        r_stdev = np.std(np_img[h_pad:-h_pad,i:i+1,0:1])\n",
    "        g_stdev = np.std(np_img[h_pad:-h_pad,i:i+1,1:2])\n",
    "        b_stdev = np.std(np_img[h_pad:-h_pad,i:i+1,2:3])\n",
    "        if r_stdev*r_stdev+g_stdev*g_stdev+b_stdev*b_stdev > thresh1:\n",
    "            break\n",
    "\n",
    "        r_med = np.median(np_img[h_pad:-h_pad,i:i+1,0:1])\n",
    "        g_med = np.median(np_img[h_pad:-h_pad,i:i+1,1:2])\n",
    "        b_med = np.median(np_img[h_pad:-h_pad,i:i+1,2:3])\n",
    "        dst = distance.euclidean((r_med, g_med, b_med), (r_global_med, g_global_med, b_global_med))\n",
    "        if dst < thresh2:\n",
    "            break\n",
    "\n",
    "        left = left+1\n",
    "    return left\n",
    "\n",
    "def find_top():\n",
    "    top = 0\n",
    "    for i in range(0, h_pad):\n",
    "        r_stdev = np.std(np_img[i:i+1,w_pad:-w_pad,0:1])\n",
    "        g_stdev = np.std(np_img[i:i+1,w_pad:-w_pad,1:2])\n",
    "        b_stdev = np.std(np_img[i:i+1,w_pad:-w_pad,2:3])\n",
    "        if r_stdev*r_stdev+g_stdev*g_stdev+b_stdev*b_stdev > thresh1:\n",
    "            break\n",
    "\n",
    "        r_med = np.median(np_img[i:i+1,w_pad:-w_pad,0:1])\n",
    "        g_med = np.median(np_img[i:i+1,w_pad:-w_pad,1:2])\n",
    "        b_med = np.median(np_img[i:i+1,w_pad:-w_pad,2:3])\n",
    "        dst = distance.euclidean((r_med, g_med, b_med), (r_global_med, g_global_med, b_global_med))\n",
    "        if dst < thresh2:\n",
    "            break\n",
    "\n",
    "        top = top+1\n",
    "    return top\n",
    "\n",
    "def find_right(right):\n",
    "    right = w\n",
    "    for i in range(0, w_pad):\n",
    "        r_stdev = np.std(np_img[h_pad:-h_pad,w-i-1:w-i,0:1])\n",
    "        g_stdev = np.std(np_img[h_pad:-h_pad,w-i-1:w-i,1:2])\n",
    "        b_stdev = np.std(np_img[h_pad:-h_pad,w-i-1:w-i,2:3])\n",
    "        if r_stdev*r_stdev+g_stdev*g_stdev+b_stdev*b_stdev > thresh1:\n",
    "            break\n",
    "\n",
    "        r_med = np.median(np_img[h_pad:-h_pad,w-i-1:w-i,0:1])\n",
    "        g_med = np.median(np_img[h_pad:-h_pad,w-i-1:w-i,1:2])\n",
    "        b_med = np.median(np_img[h_pad:-h_pad,w-i-1:w-i,2:3])\n",
    "        dst = distance.euclidean((r_med, g_med, b_med), (r_global_med, g_global_med, b_global_med))\n",
    "        if dst < thresh2:\n",
    "            break\n",
    "\n",
    "        right = right-1\n",
    "    return right\n",
    "\n",
    "def find_bottom(bottom):\n",
    "    for i in range(0, h_pad):\n",
    "        r_stdev = np.std(np_img[h-i-1:h-i,w_pad:-w_pad,0:1])\n",
    "        g_stdev = np.std(np_img[h-i-1:h-i,w_pad:-w_pad,1:2])\n",
    "        b_stdev = np.std(np_img[h-i-1:h-i,w_pad:-w_pad,2:3])\n",
    "        if r_stdev*r_stdev+g_stdev*g_stdev+b_stdev*b_stdev > thresh1:\n",
    "            break\n",
    "\n",
    "        r_med = np.median(np_img[h-i-1:h-i,w_pad:-w_pad,0:1])\n",
    "        g_med = np.median(np_img[h-i-1:h-i,w_pad:-w_pad,1:2])\n",
    "        b_med = np.median(np_img[h-i-1:h-i,w_pad:-w_pad,2:3])\n",
    "        dst = distance.euclidean((r_med, g_med, b_med), (r_global_med, g_global_med, b_global_med))\n",
    "        if dst < thresh2:\n",
    "            break\n",
    "\n",
    "        bottom = bottom-1\n",
    "    return bottom"
   ]
  },
  {
   "cell_type": "code",
   "execution_count": null,
   "metadata": {
    "scrolled": true
   },
   "outputs": [
    {
     "name": "stderr",
     "output_type": "stream",
     "text": [
      " 50%|█████     | 520/1039 [00:48<01:18,  6.59it/s]"
     ]
    }
   ],
   "source": [
    "for file in tqdm(listdir(from_path)):\n",
    "\n",
    "    try:\n",
    "        img = Image.open(from_path + '/' + file)\n",
    "        #print(file)\n",
    "\n",
    "        np_img = np.asarray(img)\n",
    "        #print(\"shape = \" + str(np_img.shape))\n",
    "\n",
    "        thresh1 = 15000\n",
    "        thresh2 = 30\n",
    "        w = img.width\n",
    "        h = img.height\n",
    "        pad = 30\n",
    "        w_pad = w//pad\n",
    "        h_pad = h//pad\n",
    "\n",
    "        r_global_med = np.median(np_img[h_pad:-h_pad,w_pad:-w_pad,0:1])\n",
    "        g_global_med = np.median(np_img[h_pad:-h_pad,w_pad:-w_pad,1:2])\n",
    "        b_global_med = np.median(np_img[h_pad:-h_pad,w_pad:-w_pad,2:3])\n",
    "\n",
    "        left = find_left()\n",
    "        top = find_top()\n",
    "        right = find_right(w)\n",
    "        bottom = find_bottom(h)\n",
    "\n",
    "        #print(\"left = \" + str(left) + \", top = \" + str(top) +\n",
    "        #    \", right = \" + str(right) +  \", bottom = \" + str(bottom) + \"\\n\")\n",
    "\n",
    "        if img.mode in (\"RGBA\", \"P\"):\n",
    "            img = img.convert(\"RGB\")\n",
    "        img.save(to_path  + file)                                   # save the original\n",
    "        cropped_img = img.crop((left, top, right, bottom))\n",
    "        cropped_img.save(to_path  + file[:-4] + \"_cropped.jpg\")     # and the cropped version\n",
    "    except:\n",
    "        print('Error with file ', file)"
   ]
  },
  {
   "cell_type": "code",
   "execution_count": null,
   "metadata": {},
   "outputs": [],
   "source": []
  }
 ],
 "metadata": {
  "kernelspec": {
   "display_name": "Python 3",
   "language": "python",
   "name": "python3"
  },
  "language_info": {
   "codemirror_mode": {
    "name": "ipython",
    "version": 3
   },
   "file_extension": ".py",
   "mimetype": "text/x-python",
   "name": "python",
   "nbconvert_exporter": "python",
   "pygments_lexer": "ipython3",
   "version": "3.7.6"
  }
 },
 "nbformat": 4,
 "nbformat_minor": 4
}
